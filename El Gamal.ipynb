{
 "cells": [
  {
   "cell_type": "markdown",
   "id": "d51f4f5c",
   "metadata": {},
   "source": [
    "# EL GAMAL"
   ]
  },
  {
   "cell_type": "code",
   "execution_count": 3,
   "id": "30894fd9",
   "metadata": {},
   "outputs": [
    {
     "name": "stdout",
     "output_type": "stream",
     "text": [
      "1430 697\n"
     ]
    }
   ],
   "source": [
    "#Enkripsi El Gamal\n",
    "p = 2357\n",
    "g = 2\n",
    "x = 1751\n",
    "\n",
    "m = 2035\n",
    "k = 1520\n",
    "\n",
    "\n",
    "y = g ** x % p\n",
    "\n",
    "def enkripsi(m, k, g, p, y):\n",
    "    a = g ** k % p\n",
    "    b = (y ** k * m) % p\n",
    "    return (a,b)\n",
    "\n",
    "\n",
    "(a,b) = enkripsi(m, k, g, p, y)\n",
    "\n",
    "print(a, b)"
   ]
  },
  {
   "cell_type": "markdown",
   "id": "2f9438f5",
   "metadata": {},
   "source": [
    "# ElGamal2"
   ]
  },
  {
   "cell_type": "code",
   "execution_count": 5,
   "id": "4aaace50",
   "metadata": {},
   "outputs": [
    {
     "name": "stdout",
     "output_type": "stream",
     "text": [
      "Original Message : iftah nur fadlilah\n",
      "g used :  31657736041589023522599190051016101807210412483958\n",
      "g^a used :  1008548932072772686222414442325929164135510218438\n",
      "g^k used :  34505079202048350741044497263873367825384792922588\n",
      "g^ak used :  17528196192249199797717645779400539535776469355328\n",
      "Decrypted Message : iftah nur fadlilah\n"
     ]
    }
   ],
   "source": [
    "# Python program to illustrate ElGamal encryption\n",
    "\n",
    "import random\n",
    "from math import pow\n",
    "\n",
    "a = random.randint(2, 10)\n",
    "\n",
    "def gcd(a, b):\n",
    "\tif a < b:\n",
    "\t\treturn gcd(b, a)\n",
    "\telif a % b == 0:\n",
    "\t\treturn b;\n",
    "\telse:\n",
    "\t\treturn gcd(b, a % b)\n",
    "\n",
    "# Generating large random numbers\n",
    "def gen_key(q):\n",
    "\n",
    "\tkey = random.randint(pow(10, 20), q)\n",
    "\twhile gcd(q, key) != 1:\n",
    "\t\tkey = random.randint(pow(10, 20), q)\n",
    "\n",
    "\treturn key\n",
    "\n",
    "# Modular exponentiation\n",
    "def power(a, b, c):\n",
    "\tx = 1\n",
    "\ty = a\n",
    "\n",
    "\twhile b > 0:\n",
    "\t\tif b % 2 != 0:\n",
    "\t\t\tx = (x * y) % c;\n",
    "\t\ty = (y * y) % c\n",
    "\t\tb = int(b / 2)\n",
    "\n",
    "\treturn x % c\n",
    "\n",
    "# Asymmetric encryption\n",
    "def encrypt(msg, q, h, g):\n",
    "\n",
    "\ten_msg = []\n",
    "\n",
    "\tk = gen_key(q)# Private key for sender\n",
    "\ts = power(h, k, q)\n",
    "\tp = power(g, k, q)\n",
    "\t\n",
    "\tfor i in range(0, len(msg)):\n",
    "\t\ten_msg.append(msg[i])\n",
    "\n",
    "\tprint(\"g^k used : \", p)\n",
    "\tprint(\"g^ak used : \", s)\n",
    "\tfor i in range(0, len(en_msg)):\n",
    "\t\ten_msg[i] = s * ord(en_msg[i])\n",
    "\n",
    "\treturn en_msg, p\n",
    "\n",
    "def decrypt(en_msg, p, key, q):\n",
    "\n",
    "\tdr_msg = []\n",
    "\th = power(p, key, q)\n",
    "\tfor i in range(0, len(en_msg)):\n",
    "\t\tdr_msg.append(chr(int(en_msg[i]/h)))\n",
    "\t\t\n",
    "\treturn dr_msg\n",
    "\n",
    "# Driver code\n",
    "def main():\n",
    "\n",
    "\tmsg = 'iftah nur fadlilah'\n",
    "\tprint(\"Original Message :\", msg)\n",
    "\n",
    "\tq = random.randint(pow(10, 20), pow(10, 50))\n",
    "\tg = random.randint(2, q)\n",
    "\n",
    "\tkey = gen_key(q)# Private key for receiver\n",
    "\th = power(g, key, q)\n",
    "\tprint(\"g used : \", g)\n",
    "\tprint(\"g^a used : \", h)\n",
    "\n",
    "\ten_msg, p = encrypt(msg, q, h, g)\n",
    "\tdr_msg = decrypt(en_msg, p, key, q)\n",
    "\tdmsg = ''.join(dr_msg)\n",
    "\tprint(\"Decrypted Message :\", dmsg);\n",
    "\n",
    "\n",
    "if __name__ == '__main__':\n",
    "\tmain()\n"
   ]
  },
  {
   "cell_type": "code",
   "execution_count": null,
   "id": "44e7f991",
   "metadata": {},
   "outputs": [],
   "source": []
  }
 ],
 "metadata": {
  "kernelspec": {
   "display_name": "Python 3 (ipykernel)",
   "language": "python",
   "name": "python3"
  },
  "language_info": {
   "codemirror_mode": {
    "name": "ipython",
    "version": 3
   },
   "file_extension": ".py",
   "mimetype": "text/x-python",
   "name": "python",
   "nbconvert_exporter": "python",
   "pygments_lexer": "ipython3",
   "version": "3.7.3"
  }
 },
 "nbformat": 4,
 "nbformat_minor": 5
}
