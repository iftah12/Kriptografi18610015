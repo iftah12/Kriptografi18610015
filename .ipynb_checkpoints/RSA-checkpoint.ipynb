{
 "cells": [
  {
   "cell_type": "code",
   "execution_count": 1,
   "id": "e1c3a732",
   "metadata": {},
   "outputs": [],
   "source": [
    "import random\n",
    "import sys\n",
    "\n",
    "def is_prime(num):\n",
    "    if num < 2:\n",
    "        return False\n",
    "    for prime in range(2, num):\n",
    "        if num % prime == 0:\n",
    "            return False\n",
    "    return True\n",
    "\n",
    "def find_prime(min, max):\n",
    "    while 1:\n",
    "        value = random.randrange(min, max)\n",
    "        prime= is_prime(value)\n",
    "        if prime:\n",
    "            return value\n",
    "        \n",
    "def gcd(a, b):\n",
    "    while b != 0:\n",
    "        a, b = b, a % b\n",
    "    return a\n",
    "\n",
    "def find_e(phi):\n",
    "    while True:\n",
    "        e = random.randrange(2, phi)\n",
    "        if gcd(e, phi) == 1:\n",
    "            break\n",
    "    return e\n",
    "\n",
    "def find_d(e, phi):\n",
    "    d = 2\n",
    "    while 1:\n",
    "        if ((d*e)% phi) == 1:\n",
    "            break\n",
    "        d += 1\n",
    "    return d\n",
    "\n",
    "#generate keypair\n",
    "def gen_key():\n",
    "    \n",
    "    p = find_prime(128, 256)\n",
    "    q = find_prime(128, 256)\n",
    "    \n",
    "    if p != q:\n",
    "        n = p * q\n",
    "        phi = (p-1) * (q-1)\n",
    "        e = find_e(phi)\n",
    "        d = find_d(e, phi)\n",
    "        return ((e, n), (d, n))\n",
    "\n",
    "def encrypt(e, n, plaintext):\n",
    "    ciphertext = [(ord(m)**e) % n for m in plaintext]\n",
    "    return ciphertext\n",
    "\n",
    "def decrypt(d, n, ciphertext):\n",
    "    plaintext = [chr((c**d) % n) for c in ciphertext]\n",
    "    return plaintext"
   ]
  },
  {
   "cell_type": "code",
   "execution_count": 2,
   "id": "7fe5ca8c",
   "metadata": {},
   "outputs": [
    {
     "data": {
      "text/plain": [
       "((3289, 31921), (5353, 31921))"
      ]
     },
     "execution_count": 2,
     "metadata": {},
     "output_type": "execute_result"
    }
   ],
   "source": [
    "gen_key()"
   ]
  },
  {
   "cell_type": "code",
   "execution_count": 3,
   "id": "ce954181",
   "metadata": {},
   "outputs": [
    {
     "name": "stdout",
     "output_type": "stream",
     "text": [
      "[3941, 22045, 44309, 9892, 13017, 51331, 6214, 40752, 41088, 51331, 22045, 9892, 47904, 11885, 3941, 11885, 9892, 13017]\n"
     ]
    }
   ],
   "source": [
    "ciphertext = encrypt(8513,56153,'IFTAH NUR FADLILAH')\n",
    "print(ciphertext)"
   ]
  },
  {
   "cell_type": "code",
   "execution_count": 4,
   "id": "66f4f40c",
   "metadata": {},
   "outputs": [
    {
     "name": "stdout",
     "output_type": "stream",
     "text": [
      "IFTAH NUR FADLILAH\n"
     ]
    }
   ],
   "source": [
    "plaintext= decrypt(35777,56153,[3941, 22045, 44309, 9892, 13017, 51331, 6214, 40752, 41088, 51331, 22045, 9892, 47904, 11885, 3941, 11885, 9892, 13017])\n",
    "decrypted = ''.join(plaintext)\n",
    "print(decrypted)"
   ]
  },
  {
   "cell_type": "code",
   "execution_count": null,
   "id": "6549ec25",
   "metadata": {},
   "outputs": [],
   "source": []
  }
 ],
 "metadata": {
  "kernelspec": {
   "display_name": "Python 3 (ipykernel)",
   "language": "python",
   "name": "python3"
  },
  "language_info": {
   "codemirror_mode": {
    "name": "ipython",
    "version": 3
   },
   "file_extension": ".py",
   "mimetype": "text/x-python",
   "name": "python",
   "nbconvert_exporter": "python",
   "pygments_lexer": "ipython3",
   "version": "3.7.3"
  }
 },
 "nbformat": 4,
 "nbformat_minor": 5
}
