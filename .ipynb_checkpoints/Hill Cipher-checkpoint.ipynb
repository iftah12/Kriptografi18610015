{
 "cells": [
  {
   "cell_type": "code",
   "execution_count": 1,
   "id": "0f5a63c6",
   "metadata": {},
   "outputs": [
    {
     "name": "stdout",
     "output_type": "stream",
     "text": [
      "exuc\n"
     ]
    }
   ],
   "source": [
    "from sympy import *\n",
    "A={'a':0,'b':1,'c':2,'d':3,'e':4,'f':5,'g':6,'h':7,'i':8,'j':9,'k':10,'l':11,'m':12,'n':13,'o':14,'p':15,'q':16,'r':17,'s':18,'t':19,'u':20,'v':21,'w':22,'x':23,'y':24,'z':25}\n",
    "H={0:'a',1:'b',2:'c',3:'d',4:'e',5:'f',6:'g',7:'h',8:'i',9:'j',10:'k',11:'l',12:'m',13:'n',14:'o',15:'p',16:'q',17:'r',18:'s',19:'t',20:'u',21:'v',22:'w',23:'x',24:'y',25:'z'}\n",
    "p='pagi'\n",
    "c=''\n",
    "i=0\n",
    "K=Matrix(([2,1],[5,3]))\n",
    "while i<len(p):\n",
    "    P=Matrix((A[p[i]],A[p[i+1]]))\n",
    "    C=K*P\n",
    "    c=c+H[C[0] %26] + H[C[1] %26]\n",
    "    i=i+2\n",
    "print(c)"
   ]
  },
  {
   "cell_type": "code",
   "execution_count": 2,
   "id": "20105e18",
   "metadata": {},
   "outputs": [
    {
     "name": "stdout",
     "output_type": "stream",
     "text": [
      "pagi\n"
     ]
    }
   ],
   "source": [
    "from sympy import *\n",
    "A={'a':0,'b':1,'c':2,'d':3,'e':4,'f':5,'g':6,'h':7,'i':8,'j':9,'k':10,'l':11,'m':12,'n':13,'o':14,'p':15,'q':16,'r':17,'s':18,'t':19,'u':20,'v':21,'w':22,'x':23,'y':24,'z':25}\n",
    "H={0:'a',1:'b',2:'c',3:'d',4:'e',5:'f',6:'g',7:'h',8:'i',9:'j',10:'k',11:'l',12:'m',13:'n',14:'o',15:'p',16:'q',17:'r',18:'s',19:'t',20:'u',21:'v',22:'w',23:'x',24:'y',25:'z'}\n",
    "c='exuc'\n",
    "p=''\n",
    "i=0\n",
    "K=Matrix(([2,1],[5,3]))\n",
    "while i<len(c):\n",
    "    C=Matrix((A[c[i]],A[c[i+1]]))\n",
    "    P=K.inv()*C\n",
    "    p=p+H[P[0] %26] + H[P[1] %26]\n",
    "    i=i+2\n",
    "print(p)"
   ]
  },
  {
   "cell_type": "markdown",
   "id": "141646e5",
   "metadata": {},
   "source": [
    "# HILL CIPHER2"
   ]
  },
  {
   "cell_type": "code",
   "execution_count": 3,
   "id": "7d875d9e",
   "metadata": {},
   "outputs": [],
   "source": [
    "#ENKRIPSI HILL CIPHER\n",
    "#Ini dengan cara input langsung untuk plainteks dan elemen pada matriks\n",
    "\n",
    "\n",
    "def encrypt():    #ini kalo ga pake def juga gapapa. nanti bisa di hapus\n",
    "                    #hasilnya kalo ga pake def itu setelah run script bagian ini, langsung muncul input\n",
    "    p= input(\"masukkan plaintext: \")\n",
    "    c=''\n",
    "    i=0\n",
    "    K=Matrix(([int(input(\"elemen matriks a : \")),int(input(\"elemen matriks b : \"))], \n",
    "              [int(input(\"elemen matriks c : \")),int(input(\"elemen matriks d : \"))]))   #kunci\n",
    "    print(K)\n",
    "    while i<len(p):\n",
    "        P=Matrix((A[p[i]], A[p[i+1]]))\n",
    "        C=K*P                  #kunci kali plaintext\n",
    "        c=c+H[C[0]%26] + H[C[1]%26]\n",
    "        i=i+2\n",
    "    print(\"Chipertext : \" + c)"
   ]
  },
  {
   "cell_type": "code",
   "execution_count": 4,
   "id": "c9a35d4a",
   "metadata": {},
   "outputs": [
    {
     "name": "stdout",
     "output_type": "stream",
     "text": [
      "masukkan plaintext: pagi\n",
      "elemen matriks a : 2\n",
      "elemen matriks b : 1\n",
      "elemen matriks c : 5\n",
      "elemen matriks d : 3\n",
      "Matrix([[2, 1], [5, 3]])\n",
      "Chipetext : exuc\n"
     ]
    }
   ],
   "source": [
    "#ini tinggal manggil encrypt nanti bisa input plainteks sama matriks nya\n",
    "\n",
    "encrypt()"
   ]
  },
  {
   "cell_type": "code",
   "execution_count": 5,
   "id": "dfe2a474",
   "metadata": {},
   "outputs": [],
   "source": [
    "#DEKRIPSI HILL CIPHER\n",
    "#Ini dengan cara dr video, cipherteks langsung ditaruh di c\n",
    "#dictionary sudah di run terlebih dahulu di atas. \n",
    "\n",
    "def decrypt():\n",
    "    c = input (\"Masukkan ciphertext : \")\n",
    "    p=''\n",
    "    i=0\n",
    "    K=Matrix(([int(input(\"elemen matriks a : \")),int(input(\"elemen matriks b : \"))], \n",
    "                  [int(input(\"elemen matriks c : \")),int(input(\"elemen matriks d : \"))]))  \n",
    "        #K adalah kunci yang awalnya adalah [2 1] [5 3], ada di video\n",
    "    while i<len(c):\n",
    "        C=Matrix((A[c[i]], A[c[i+1]]))\n",
    "        P=K.inv()*C   #invers modulo dari determinan dikali determinan \n",
    "        i=i+2         \n",
    "        p=p+H[P[0]%26] + H[P[1]%26]\n",
    "    print (\"Plaintext adalah :\", p)"
   ]
  },
  {
   "cell_type": "code",
   "execution_count": 6,
   "id": "65d13d59",
   "metadata": {},
   "outputs": [
    {
     "name": "stdout",
     "output_type": "stream",
     "text": [
      "Masukkan ciphertext : exuc\n",
      "elemen matriks a : 2\n",
      "elemen matriks b : 1\n",
      "elemen matriks c : 5\n",
      "elemen matriks d : 3\n",
      "Plaintext adalah : pagi\n"
     ]
    }
   ],
   "source": [
    "#ini tinggal manggil encrypt nanti bisa input plainteks sama matriks nya\n",
    "\n",
    "decrypt()"
   ]
  },
  {
   "cell_type": "code",
   "execution_count": null,
   "id": "94a84218",
   "metadata": {},
   "outputs": [],
   "source": []
  }
 ],
 "metadata": {
  "kernelspec": {
   "display_name": "Python 3 (ipykernel)",
   "language": "python",
   "name": "python3"
  },
  "language_info": {
   "codemirror_mode": {
    "name": "ipython",
    "version": 3
   },
   "file_extension": ".py",
   "mimetype": "text/x-python",
   "name": "python",
   "nbconvert_exporter": "python",
   "pygments_lexer": "ipython3",
   "version": "3.7.3"
  }
 },
 "nbformat": 4,
 "nbformat_minor": 5
}
