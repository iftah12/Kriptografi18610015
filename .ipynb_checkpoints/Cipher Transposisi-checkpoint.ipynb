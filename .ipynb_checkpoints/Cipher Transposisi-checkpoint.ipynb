{
 "cells": [
  {
   "cell_type": "markdown",
   "metadata": {},
   "source": [
    "# CHIPER Transposisi"
   ]
  },
  {
   "cell_type": "code",
   "execution_count": 1,
   "metadata": {},
   "outputs": [],
   "source": [
    "def entrans(p,k):\n",
    "    c=''\n",
    "    b=len(p)\n",
    "    while b%k>0:\n",
    "        p=p+'x'\n",
    "        b=len(p)\n",
    "    n=b//k\n",
    "    for i in range(k):\n",
    "        for j in range(n):\n",
    "            c=c+p[i+j*k]\n",
    "    return c\n",
    "\n",
    "def detrans(c,k):\n",
    "    b=len(c)\n",
    "    k=b//k\n",
    "    p=''\n",
    "    n=b//k\n",
    "    for i in range(k):\n",
    "        for j in range(n):\n",
    "            p=p+c[i+j*k]\n",
    "    return p"
   ]
  },
  {
   "cell_type": "code",
   "execution_count": 2,
   "metadata": {},
   "outputs": [
    {
     "data": {
      "text/plain": [
       "'mtaitkeamxax'"
      ]
     },
     "execution_count": 2,
     "metadata": {},
     "output_type": "execute_result"
    }
   ],
   "source": [
    "entrans('matematika',6)"
   ]
  },
  {
   "cell_type": "code",
   "execution_count": 5,
   "metadata": {},
   "outputs": [
    {
     "data": {
      "text/plain": [
       "'matematikaxx'"
      ]
     },
     "execution_count": 5,
     "metadata": {},
     "output_type": "execute_result"
    }
   ],
   "source": [
    "detrans('mtaitkeamxax',6)"
   ]
  },
  {
   "cell_type": "code",
   "execution_count": 8,
   "metadata": {},
   "outputs": [
    {
     "data": {
      "text/plain": [
       "'AJAIATAMRxMSSAxAYSJx'"
      ]
     },
     "execution_count": 8,
     "metadata": {},
     "output_type": "execute_result"
    }
   ],
   "source": [
    "entrans('ATMAJASYAMSSIRAJA',4)"
   ]
  },
  {
   "cell_type": "code",
   "execution_count": 9,
   "metadata": {},
   "outputs": [
    {
     "name": "stdout",
     "output_type": "stream",
     "text": [
      "1\n",
      "BJLIUUATMGNKIAGU\n",
      "2\n",
      "BMJGLNIKUIUAAGTU\n",
      "3\n",
      "BUNJAKLTIIMAUGG\n",
      "4\n",
      "BUMIJUGALANGITKU\n",
      "5\n",
      "BIAGIJUTNALUMKG\n",
      "6\n",
      "BLUAMNIGJIUTGKAU\n",
      "7\n",
      "BLUAMNIGJIUTGKAU\n",
      "8\n",
      "BLUAMNIGJIUTGKAU\n",
      "9\n",
      "BJLIUUATMGNKIAGU\n",
      "10\n",
      "BJLIUUATMGNKIAGU\n",
      "11\n",
      "BJLIUUATMGNKIAGU\n",
      "12\n",
      "BJLIUUATMGNKIAGU\n",
      "13\n",
      "BJLIUUATMGNKIAGU\n",
      "14\n",
      "BJLIUUATMGNKIAGU\n"
     ]
    }
   ],
   "source": [
    "for i in range(1,15):\n",
    "    print(i)\n",
    "    print(detrans('BJLIUUATMGNKIAGU',i))"
   ]
  },
  {
   "cell_type": "code",
   "execution_count": null,
   "metadata": {},
   "outputs": [],
   "source": []
  },
  {
   "cell_type": "code",
   "execution_count": null,
   "metadata": {},
   "outputs": [],
   "source": []
  }
 ],
 "metadata": {
  "kernelspec": {
   "display_name": "Python 3 (ipykernel)",
   "language": "python",
   "name": "python3"
  },
  "language_info": {
   "codemirror_mode": {
    "name": "ipython",
    "version": 3
   },
   "file_extension": ".py",
   "mimetype": "text/x-python",
   "name": "python",
   "nbconvert_exporter": "python",
   "pygments_lexer": "ipython3",
   "version": "3.7.3"
  }
 },
 "nbformat": 4,
 "nbformat_minor": 4
}
