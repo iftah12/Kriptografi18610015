{
 "cells": [
  {
   "cell_type": "markdown",
   "id": "8b8409f9",
   "metadata": {},
   "source": [
    "# ECC"
   ]
  },
  {
   "cell_type": "code",
   "execution_count": 16,
   "id": "86e0f917",
   "metadata": {},
   "outputs": [],
   "source": [
    "Pcurve = 2**256 - 2**32 - 2**9 - 2**8 - 2**7 - 2**6 - 2**4 -1 # The proven prime\n",
    "N=0xFFFFFFFFFFFFFFFFFFFFFFFFFFFFFFFEBAAEDCE6AF48A03BBFD25E8CD0364141 # Number of points in the field\n",
    "Acurve = 0; Bcurve = 7 # These two defines the elliptic curve. y^2 = x^3 + Acurve * x + Bcurve\n",
    "Gx = 55066263022277343669578718895168534326250603453777594175500187360389116729240\n",
    "Gy = 32670510020758816978083085130507043184471273380659243275938904335757337482424\n",
    "GPoint = (Gx,Gy) # This is our generator point. Trillions of dif ones possible\n",
    "from sympy import mod_inverse\n",
    "\n",
    "def modinv(a,n=Pcurve):\n",
    "    return mod_inverse(a,n)\n",
    "def ECadd(a,b): # Not true addition, invented for EC. Could have been called anything.\n",
    "    LamAdd = ((b[1]-a[1]) * modinv(b[0]-a[0],Pcurve)) % Pcurve\n",
    "    x = (LamAdd*LamAdd-a[0]-b[0]) % Pcurve\n",
    "    y = (LamAdd*(a[0]-x)-a[1]) % Pcurve\n",
    "    return (x,y)\n",
    "def ECdouble(a): # This is called point doubling, also invented for EC.\n",
    "    Lam = ((3*a[0]*a[0]+Acurve) * modinv((2*a[1]),Pcurve)) % Pcurve\n",
    "    x = (Lam*Lam-2*a[0]) % Pcurve\n",
    "    y = (Lam*(a[0]-x)-a[1]) % Pcurve\n",
    "    Point = (x,y)\n",
    "    return Point\n",
    "def EccMultiply(GenPoint,ScalarHex): #Double & add. Not true multiplication\n",
    "    if ScalarHex == 0 or ScalarHex >= N: \n",
    "        raise Exception(\"Invalid Scalar/Private Key\")\n",
    "    ScalarBin = str(bin(ScalarHex))[2:]\n",
    "    Q=GenPoint\n",
    "    for i in range (1, len(ScalarBin)): # This is invented EC multiplication.\n",
    "        Q=ECdouble(Q);  #print (\"DUB\", Q[0])\n",
    "        if ScalarBin[i] == \"1\":\n",
    "            Q=ECadd(Q,GenPoint); #print (\"ADD\", Q[0])\n",
    "    return (Q)"
   ]
  },
  {
   "cell_type": "code",
   "execution_count": 17,
   "id": "b86ca378",
   "metadata": {},
   "outputs": [
    {
     "name": "stdout",
     "output_type": "stream",
     "text": [
      "0130d7bb226f49dc8288e78392f72827d077379fd73425e235102748221e69da\n"
     ]
    }
   ],
   "source": [
    "import random\n",
    "\n",
    "ran = random.randrange(2**256)\n",
    "myhex = \"%064x\" % ran\n",
    "print(myhex)"
   ]
  },
  {
   "cell_type": "code",
   "execution_count": 18,
   "id": "f4968050",
   "metadata": {},
   "outputs": [
    {
     "name": "stdout",
     "output_type": "stream",
     "text": [
      "the private key:\n",
      "0x7f04c310135948617fcdaf5d90c918003b27e4d260eb11f045bffe527055d8f6\n"
     ]
    }
   ],
   "source": [
    "# Replace with any private key\n",
    "privKey = 0x7f04c310135948617fcdaf5d90c918003b27e4d260eb11f045bffe527055d8f6\n",
    "\n",
    "#Generate the public key\n",
    "publicKey = EccMultiply(GPoint,privKey)\n",
    "print (\"the private key:\")\n",
    "print (hex(privKey))"
   ]
  },
  {
   "cell_type": "code",
   "execution_count": 19,
   "id": "9f6a4d16",
   "metadata": {},
   "outputs": [
    {
     "name": "stdout",
     "output_type": "stream",
     "text": [
      "the private key:\n",
      "0x7f04c310135948617fcdaf5d90c918003b27e4d260eb11f045bffe527055d8f6\n",
      "the public key x-value (Hex):\n",
      "0xa3c157ae44d0a4041672964f0bb6b21af38cdf00e49f7e587e49140c77c9291f\n",
      "the public key y-value (Hex):\n",
      "0x9341fb5cad9c98b5f9cc6ae3f3ff0b9e4ebba42302fcdb551001ae303fe581bf\n"
     ]
    }
   ],
   "source": [
    "print (\"the private key:\")\n",
    "print (hex(privKey))\n",
    "\n",
    "print (\"the public key x-value (Hex):\")\n",
    "print (hex(publicKey[0]))\n",
    "\n",
    "\n",
    "print (\"the public key y-value (Hex):\")\n",
    "print (hex(publicKey[1]))"
   ]
  },
  {
   "cell_type": "code",
   "execution_count": 20,
   "id": "49f39aa5",
   "metadata": {},
   "outputs": [
    {
     "name": "stdout",
     "output_type": "stream",
     "text": [
      "0x50e4a8f3ab422ff40121e6416216c8938b8a464c0dc059ca2c6de96f1842124c\n"
     ]
    }
   ],
   "source": [
    "#Step 1 -> SHA2 Hash \n",
    "import hashlib\n",
    "\n",
    "def encrypt_string(hash_string):\n",
    "    sha_signature = \\\n",
    "        hashlib.sha256(hash_string.encode()).hexdigest()\n",
    "    return sha_signature\n",
    "\n",
    "hash_string = 'Quantum Computer'\n",
    "sha_signature = encrypt_string(hash_string)\n",
    "sha_signature_val = int(sha_signature,16)\n",
    "print(hex(sha_signature_val))"
   ]
  },
  {
   "cell_type": "code",
   "execution_count": 21,
   "id": "0dc9d66c",
   "metadata": {},
   "outputs": [
    {
     "name": "stdout",
     "output_type": "stream",
     "text": [
      "true\n",
      "0x92f8c64dbce5cdc7b41952976da7e5e38afe84dae985ab56b21c488ea831b820\n"
     ]
    }
   ],
   "source": [
    "#Generate another random number\n",
    "ran = random.randrange(2**256)\n",
    "myhex = \"%064x\" % ran\n",
    "k = int(myhex,16)\n",
    "if(k>=1 and k<=N-1): \n",
    "    print(\"true\")\n",
    "print(hex(k))"
   ]
  },
  {
   "cell_type": "code",
   "execution_count": 22,
   "id": "9bf07e43",
   "metadata": {},
   "outputs": [
    {
     "name": "stdout",
     "output_type": "stream",
     "text": [
      "0xf344c6e261e81e5e9300fbc128625a2592d2c5ff4cc3df27d5d5ec671555eb47\n",
      "0x7fd925149b1671b56b120b53ada78eb61734fd89fa501eafe55ccf52fc6a634c\n",
      "0xf344c6e261e81e5e9300fbc128625a2592d2c5ff4cc3df27d5d5ec671555eb47\n",
      "0x44ac24796919078c0b0ed31ce7efa82901376124f5312979d9f42f8269f5b190\n"
     ]
    }
   ],
   "source": [
    "#generate temporary public key(x1,y1)\n",
    "x1,y1 = EccMultiply(GPoint,k)\n",
    "print(hex(x1))\n",
    "print(hex(y1))\n",
    "r = x1 % N\n",
    "s = (sha_signature_val+r*privKey) * modinv(k,N) % N\n",
    "print(hex(r))\n",
    "print(hex(s))"
   ]
  },
  {
   "cell_type": "code",
   "execution_count": 23,
   "id": "04ba601a",
   "metadata": {},
   "outputs": [
    {
     "name": "stdout",
     "output_type": "stream",
     "text": [
      "0x11fcc785b29a2643d123eb3fa864d4719c605cd15a539cc68d1fac47b246181d\n",
      "0xcd7deaddf04be5c497061ed63906f53cc524a0070c808be6f179a39cfd496ce2\n",
      "0xf344c6e261e81e5e9300fbc128625a2592d2c5ff4cc3df27d5d5ec671555eb47\n",
      "0x7fd925149b1671b56b120b53ada78eb61734fd89fa501eafe55ccf52fc6a634c\n",
      "True\n"
     ]
    }
   ],
   "source": [
    "#Verification Steps\n",
    "if(r>N-1 or s>N-1): print(\"false\")\n",
    "\n",
    "w = modinv(s,N)\n",
    "u1 = (sha_signature_val*w)%N\n",
    "u2 = (r*w)%N\n",
    "print(hex(u1))\n",
    "print(hex(u2))\n",
    "xu1 = EccMultiply(GPoint,u1)\n",
    "xu2 = EccMultiply(publicKey,u2)\n",
    "x2,y2 = ECadd(xu1,xu2)\n",
    "print(hex(x2))\n",
    "print(hex(y2))\n",
    "\n",
    "print(r==x2)"
   ]
  },
  {
   "cell_type": "code",
   "execution_count": null,
   "id": "8ce1462e",
   "metadata": {},
   "outputs": [],
   "source": []
  }
 ],
 "metadata": {
  "kernelspec": {
   "display_name": "Python 3 (ipykernel)",
   "language": "python",
   "name": "python3"
  },
  "language_info": {
   "codemirror_mode": {
    "name": "ipython",
    "version": 3
   },
   "file_extension": ".py",
   "mimetype": "text/x-python",
   "name": "python",
   "nbconvert_exporter": "python",
   "pygments_lexer": "ipython3",
   "version": "3.7.3"
  }
 },
 "nbformat": 4,
 "nbformat_minor": 5
}
