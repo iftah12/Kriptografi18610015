{
 "cells": [
  {
   "cell_type": "code",
   "execution_count": 1,
   "id": "55b31998",
   "metadata": {},
   "outputs": [],
   "source": [
    "def enpermutasi(p):\n",
    "    c=''\n",
    "    while len(p)%5!=0:\n",
    "        p=p+'%'\n",
    "    for i in range(len(p)//5):\n",
    "        c=c+p[3+(5*i)]\n",
    "        c=c+p[4+(5*i)]\n",
    "        c=c+p[0+(5*i)]\n",
    "        c=c+p[1+(5*i)]\n",
    "        c=c+p[2+(5*i)]\n",
    "    return c"
   ]
  },
  {
   "cell_type": "code",
   "execution_count": 2,
   "id": "51715314",
   "metadata": {},
   "outputs": [
    {
     "data": {
      "text/plain": [
       "'A#SAYANSEDENG#MA#COBRIENK%%PSI'"
      ]
     },
     "execution_count": 2,
     "metadata": {},
     "output_type": "execute_result"
    }
   ],
   "source": [
    "enpermutasi('SAYA#SEDANG#MENCOBA#ENKRIPSI')"
   ]
  },
  {
   "cell_type": "code",
   "execution_count": 3,
   "id": "9d09e741",
   "metadata": {},
   "outputs": [],
   "source": [
    "def depermutasi(c):\n",
    "    p=''\n",
    "    while len(c)%5!=0:\n",
    "        c=c+'%'\n",
    "    for i in range(len(c)//5):\n",
    "        p=p+c[2+(5*i)]\n",
    "        p=p+c[3+(5*i)]\n",
    "        p=p+c[4+(5*i)]\n",
    "        p=p+c[0+(5*i)]\n",
    "        p=p+c[1+(5*i)]\n",
    "    return p"
   ]
  },
  {
   "cell_type": "code",
   "execution_count": 10,
   "id": "1404edcd",
   "metadata": {},
   "outputs": [
    {
     "data": {
      "text/plain": [
       "'SAYA#SEDANG#MENCOBA#ENKRIPSI%%'"
      ]
     },
     "execution_count": 10,
     "metadata": {},
     "output_type": "execute_result"
    }
   ],
   "source": [
    "depermutasi('A#SAYANSEDENG#MA#COBRIENK%%PSI')"
   ]
  },
  {
   "cell_type": "code",
   "execution_count": null,
   "id": "24605486",
   "metadata": {},
   "outputs": [],
   "source": []
  }
 ],
 "metadata": {
  "kernelspec": {
   "display_name": "Python 3 (ipykernel)",
   "language": "python",
   "name": "python3"
  },
  "language_info": {
   "codemirror_mode": {
    "name": "ipython",
    "version": 3
   },
   "file_extension": ".py",
   "mimetype": "text/x-python",
   "name": "python",
   "nbconvert_exporter": "python",
   "pygments_lexer": "ipython3",
   "version": "3.7.3"
  }
 },
 "nbformat": 4,
 "nbformat_minor": 5
}
