{
 "cells": [
  {
   "cell_type": "code",
   "execution_count": 10,
   "metadata": {},
   "outputs": [],
   "source": [
    "def encrypt(p,k):\n",
    "    A={'a':0,'b':1,'c':2,'d':3,'e':4,'f':5,'g':6,'h':7,'i':8,'j':9,'k':10,'l':11,'m':12,'n':13,'o':14,'p':15,'q':16,'r':17,'s':18,'t':19,'u':20,'v':21,'w':22,'x':23,'y':24,'z':25}\n",
    "    H={0:'a',1:'b',2:'c',3:'d',4:'e',5:'f',6:'g',7:'h',8:'i',9:'j',10:'k',11:'l',12:'m',13:'n',14:'o',15:'p',16:'q',17:'r',18:'s',19:'t',20:'u',21:'v',22:'w',23:'x',24:'y',25:'z'}\n",
    "    c=''\n",
    "    b=len(p)\n",
    "    for i in range(0,b):\n",
    "        if p[i]==' ':\n",
    "            ct=' '\n",
    "        else :\n",
    "            ca=(A[p[i]]+k)%26\n",
    "            ct=H[ca]\n",
    "        c=c+ct\n",
    "    return c\n",
    "def decrypt(c,k):\n",
    "    A={'a':0,'b':1,'c':2,'d':3,'e':4,'f':5,'g':6,'h':7,'i':8,'j':9,'k':10,'l':11,'m':12,'n':13,'o':14,'p':15,'q':16,'r':17,'s':18,'t':19,'u':20,'v':21,'w':22,'x':23,'y':24,'z':25}\n",
    "    H={0:'a',1:'b',2:'c',3:'d',4:'e',5:'f',6:'g',7:'h',8:'i',9:'j',10:'k',11:'l',12:'m',13:'n',14:'o',15:'p',16:'q',17:'r',18:'s',19:'t',20:'u',21:'v',22:'w',23:'x',24:'y',25:'z'}\n",
    "    p=''\n",
    "    b=len(c)\n",
    "    for i in range(0,b):\n",
    "        if c[i]==' ':\n",
    "            pt=' '\n",
    "        else :\n",
    "            pa=(A[c[i]]-k)%26\n",
    "            pt=H[pa]\n",
    "        p=p+pt\n",
    "    return p"
   ]
  },
  {
   "cell_type": "code",
   "execution_count": 2,
   "metadata": {},
   "outputs": [
    {
     "data": {
      "text/plain": [
       "'dnx ndx nxd'"
      ]
     },
     "execution_count": 2,
     "metadata": {},
     "output_type": "execute_result"
    }
   ],
   "source": [
    "encrypt('aku kau kua',3)"
   ]
  },
  {
   "cell_type": "code",
   "execution_count": 3,
   "metadata": {},
   "outputs": [
    {
     "data": {
      "text/plain": [
       "'aku kau kua'"
      ]
     },
     "execution_count": 3,
     "metadata": {},
     "output_type": "execute_result"
    }
   ],
   "source": [
    "decrypt('zraabm aariaaenlaab apfmnsadjaeshtiaa h unre oxnia kagojkgx sdaensparrx',3)"
   ]
  },
  {
   "cell_type": "markdown",
   "metadata": {},
   "source": [
    "# Menggunakan ASKI"
   ]
  },
  {
   "cell_type": "code",
   "execution_count": 16,
   "metadata": {},
   "outputs": [],
   "source": [
    "def encrypt(p,k):\n",
    "    c=''\n",
    "    b=len(p)\n",
    "    for i in range(0,b):\n",
    "        if p[i]==' ':\n",
    "            ct=' '\n",
    "        else :\n",
    "            ca=(ord(p[i])-97+k)%26\n",
    "            y=ca+97\n",
    "            ct=chr(y)\n",
    "        c=c+ct\n",
    "    return c\n",
    "\n",
    "def decrypt(c,k):\n",
    "    p=''\n",
    "    b=len(c)\n",
    "    for i in range(0,b):\n",
    "        if c[i]==' ':\n",
    "            pt=' '\n",
    "        else :\n",
    "            pa=(ord(c[i])-97-k)%26\n",
    "            y=pa+97\n",
    "            pt=chr(y)\n",
    "        p=p+pt\n",
    "    return p"
   ]
  },
  {
   "cell_type": "code",
   "execution_count": 7,
   "metadata": {},
   "outputs": [
    {
     "data": {
      "text/plain": [
       "'gqa yaqg qgsa zgvo qgsa zojgq'"
      ]
     },
     "execution_count": 7,
     "metadata": {},
     "output_type": "execute_result"
    }
   ],
   "source": [
    "encrypt('aku suka kamu tapi kamu tidak',6)"
   ]
  },
  {
   "cell_type": "code",
   "execution_count": 17,
   "metadata": {},
   "outputs": [
    {
     "data": {
      "text/plain": [
       "'tluuvg uulcuuyhfuuv ujzghmuxduymbncuu b ohly irhcu euaidear mxuyhmjullr'"
      ]
     },
     "execution_count": 17,
     "metadata": {},
     "output_type": "execute_result"
    }
   ],
   "source": [
    "decrypt('zraabm aariaaenlaab apfmnsadjaeshtiaa h unre oxnia kagojkgx sdaensparrx',6)"
   ]
  },
  {
   "cell_type": "code",
   "execution_count": 3,
   "metadata": {},
   "outputs": [
    {
     "data": {
      "text/plain": [
       "'eoy wyhel wyoe peqe weqe wiwisverk xetm sverk mxy xmheo wyoe fepmo hirkeroy'"
      ]
     },
     "execution_count": 3,
     "metadata": {},
     "output_type": "execute_result"
    }
   ],
   "source": [
    "encrypt('aku sudah suka lama sama seseorang tapi orang itu tidak suka balik denganku', 4)"
   ]
  },
  {
   "cell_type": "code",
   "execution_count": 9,
   "metadata": {},
   "outputs": [
    {
     "data": {
      "text/plain": [
       "'tluuvg uulcuuyhfuuv ujzghmuxduymbncuu b ohly irhcu euaidear mxuyhmjullr'"
      ]
     },
     "execution_count": 9,
     "metadata": {},
     "output_type": "execute_result"
    }
   ],
   "source": [
    "decrypt('zraabm aariaaenlaab apfmnsadjaeshtiaa h unre oxnia kagojkgx sdaensparrx',6)"
   ]
  },
  {
   "cell_type": "code",
   "execution_count": 7,
   "metadata": {},
   "outputs": [
    {
     "name": "stdout",
     "output_type": "stream",
     "text": [
      "1\n",
      "cjahlgyjsxa slsm ujqhlgyjshzq twjsksd vsja tszsks qmfsfa qsfy lwjvaja vsja kmcm csls qsalm cjahlg sjlafqs ewfqwetmfqacsf vsf yjshzas sjlafqs lmdaksf bsva cjahlgyjsxa kwusjs zsjxasz twjsjla lmdaksf jszskas\n",
      "2\n",
      "bizgkfxirwz rkrl tipgkfxirgyp svirjrc uriz sryrjr plerez prex kviuziz uriz jlbl brkr przkl bizgkf rikzepr dvepvdslepzbre ure xirgyzr rikzepr klczjre aruz bizgkfxirwz jvtrir yriwzry svirikz klczjre iryrjzr\n",
      "3\n",
      "ahyfjewhqvy qjqk shofjewhqfxo ruhqiqb tqhy rqxqiq okdqdy oqdw juhtyhy tqhy ikak aqjq oqyjk ahyfje qhjydoq cudoucrkdoyaqd tqd whqfxyq qhjydoq jkbyiqd zqty ahyfjewhqvy iusqhq xqhvyqx ruhqhjy jkbyiqd hqxqiyq\n",
      "4\n",
      "zgxeidvgpux pipj rgneidvgpewn qtgphpa spgx qpwphp njcpcx npcv itgsxgx spgx hjzj zpip npxij zgxeid pgixcnp btcntbqjcnxzpc spc vgpewxp pgixcnp ijaxhpc ypsx zgxeidvgpux htrpgp wpguxpw qtgpgix ijaxhpc gpwphxp\n",
      "5\n",
      "yfwdhcufotw ohoi qfmdhcufodvm psfogoz rofw povogo mibobw mobu hsfrwfw rofw giyi yoho mowhi yfwdhc ofhwbmo asbmsapibmwyob rob ufodvwo ofhwbmo hizwgob xorw yfwdhcufotw gsqofo voftwov psfofhw hizwgob fovogwo\n",
      "6\n",
      "xevcgbtensv ngnh pelcgbtencul orenfny qnev onunfn lhanav lnat greqvev qnev fhxh xngn lnvgh xevcgb negvaln zralrzohalvxna qna tencuvn negvaln ghyvfna wnqv xevcgbtensv frpnen unesvnu orenegv ghyvfna enunfvn\n",
      "7\n",
      "wdubfasdmru mfmg odkbfasdmbtk nqdmemx pmdu nmtmem kgzmzu kmzs fqdpudu pmdu egwg wmfm kmufg wdubfa mdfuzkm yqzkqyngzkuwmz pmz sdmbtum mdfuzkm fgxuemz vmpu wdubfasdmru eqomdm tmdrumt nqdmdfu fgxuemz dmtmeum\n",
      "8\n",
      "vctaezrclqt lelf ncjaezrclasj mpcldlw olct mlsldl jfylyt jlyr epcotct olct dfvf vlel jltef vctaez lcetyjl xpyjpxmfyjtvly oly rclastl lcetyjl efwtdly ulot vctaezrclqt dpnlcl slcqtls mpclcet efwtdly clsldtl\n",
      "9\n",
      "ubszdyqbkps kdke mbizdyqbkzri lobkckv nkbs lkrkck iexkxs ikxq dobnsbs nkbs ceue ukdk iksde ubszdy kbdsxik woxiowlexisukx nkx qbkzrsk kbdsxik devsckx tkns ubszdyqbkps comkbk rkbpskr lobkbds devsckx bkrkcsk\n",
      "10\n",
      "tarycxpajor jcjd lahycxpajyqh knajbju mjar kjqjbj hdwjwr hjwp cnamrar mjar bdtd tjcj hjrcd tarycx jacrwhj vnwhnvkdwhrtjw mjw pajyqrj jacrwhj cdurbjw sjmr tarycxpajor bnljaj qjaorjq knajacr cdurbjw ajqjbrj\n",
      "11\n",
      "szqxbwozinq ibic kzgxbwozixpg jmziait lizq jipiai gcvivq givo bmzlqzq lizq acsc sibi giqbc szqxbw izbqvgi umvgmujcvgqsiv liv ozixpqi izbqvgi bctqaiv rilq szqxbwozinq amkizi piznqip jmzizbq bctqaiv zipiaqi\n",
      "12\n",
      "rypwavnyhmp hahb jyfwavnyhwof ilyhzhs khyp ihohzh fbuhup fhun alykpyp khyp zbrb rhah fhpab rypwav hyapufh tlufltibufprhu khu nyhwoph hyapufh abspzhu qhkp rypwavnyhmp zljhyh ohympho ilyhyap abspzhu yhohzph\n",
      "13\n",
      "qxovzumxglo gzga ixevzumxgvne hkxgygr jgxo hgngyg eatgto egtm zkxjoxo jgxo yaqa qgzg egoza qxovzu gxzoteg sktekshateoqgt jgt mxgvnog gxzoteg zaroygt pgjo qxovzumxglo ykigxg ngxlogn hkxgxzo zaroygt xgngyog\n",
      "14\n",
      "pwnuytlwfkn fyfz hwduytlwfumd gjwfxfq ifwn gfmfxf dzsfsn dfsl yjwinwn ifwn xzpz pfyf dfnyz pwnuyt fwynsdf rjsdjrgzsdnpfs ifs lwfumnf fwynsdf yzqnxfs ofin pwnuytlwfkn xjhfwf mfwknfm gjwfwyn yzqnxfs wfmfxnf\n",
      "15\n",
      "ovmtxskvejm exey gvctxskvetlc fivewep hevm felewe cyrerm cerk xivhmvm hevm wyoy oexe cemxy ovmtxs evxmrce qirciqfyrcmoer her kvetlme evxmrce xypmwer nehm ovmtxskvejm wigeve levjmel fivevxm xypmwer velewme\n",
      "16\n",
      "nulswrjudil dwdx fubswrjudskb ehudvdo gdul edkdvd bxqdql bdqj whuglul gdul vxnx ndwd bdlwx nulswr duwlqbd phqbhpexqblndq gdq judskld duwlqbd wxolvdq mdgl nulswrjudil vhfdud kduildk ehuduwl wxolvdq udkdvld\n",
      "17\n",
      "mtkrvqitchk cvcw etarvqitcrja dgtcucn fctk dcjcuc awpcpk acpi vgtfktk fctk uwmw mcvc ackvw mtkrvq ctvkpac ogpagodwpakmcp fcp itcrjkc ctvkpac vwnkucp lcfk mtkrvqitchk ugectc jcthkcj dgtctvk vwnkucp tcjcukc\n",
      "18\n",
      "lsjquphsbgj bubv dszquphsbqiz cfsbtbm ebsj cbibtb zvoboj zboh ufsejsj ebsj tvlv lbub zbjuv lsjqup bsujozb nfozfncvozjlbo ebo hsbqijb bsujozb uvmjtbo kbej lsjquphsbgj tfdbsb ibsgjbi cfsbsuj uvmjtbo sbibtjb\n",
      "19\n",
      "kriptografi atau cryptography berasal dari bahasa yunani yang terdiri dari suku kata yaitu kripto artinya menyembunyikan dan graphia artinya tulisan jadi kriptografi secara harfiah berarti tulisan rahasia\n",
      "20\n",
      "jqhosnfqzeh zszt bqxosnfqzogx adqzrzk czqh azgzrz xtmzmh xzmf sdqchqh czqh rtjt jzsz xzhst jqhosn zqshmxz ldmxdlatmxhjzm czm fqzoghz zqshmxz stkhrzm izch jqhosnfqzeh rdbzqz gzqehzg adqzqsh stkhrzm qzgzrhz\n",
      "21\n",
      "ipgnrmepydg yrys apwnrmepynfw zcpyqyj bypg zyfyqy wslylg wyle rcpbgpg bypg qsis iyry wygrs ipgnrm yprglwy kclwckzslwgiyl byl epynfgy yprglwy rsjgqyl hybg ipgnrmepydg qcaypy fypdgyf zcpyprg rsjgqyl pyfyqgy\n",
      "22\n",
      "hofmqldoxcf xqxr zovmqldoxmev yboxpxi axof yxexpx vrkxkf vxkd qboafof axof prhr hxqx vxfqr hofmql xoqfkvx jbkvbjyrkvfhxk axk doxmefx xoqfkvx qrifpxk gxaf hofmqldoxcf pbzxox exocfxe yboxoqf qrifpxk oxexpfx\n",
      "23\n",
      "gnelpkcnwbe wpwq ynulpkcnwldu xanwowh zwne xwdwow uqjwje uwjc panzene zwne oqgq gwpw uwepq gnelpk wnpejuw iajuaixqjuegwj zwj cnwldew wnpejuw pqheowj fwze gnelpkcnwbe oaywnw dwnbewd xanwnpe pqheowj nwdwoew\n",
      "24\n",
      "fmdkojbmvad vovp xmtkojbmvkct wzmvnvg yvmd wvcvnv tpivid tvib ozmydmd yvmd npfp fvov tvdop fmdkoj vmoditv hzitzhwpitdfvi yvi bmvkcdv vmoditv opgdnvi evyd fmdkojbmvad nzxvmv cvmadvc wzmvmod opgdnvi mvcvndv\n",
      "25\n",
      "elcjnialuzc unuo wlsjnialujbs vylumuf xulc vubumu sohuhc suha nylxclc xulc moeo eunu sucno elcjni ulnchsu gyhsygvohsceuh xuh alujbcu ulnchsu nofcmuh duxc elcjnialuzc mywulu bulzcub vylulnc nofcmuh lubumcu\n"
     ]
    }
   ],
   "source": [
    "for i in range (1,26):\n",
    "    print(i)\n",
    "    print(decrypt('dkbimhzktyb tmtn vkrimhzktiar uxktlte wtkb utatlt rngtgb rtgz mxkwbkb wtkb lndn dtmt rtbmn dkbimh tkmbgrt fxgrxfungrbdtg wtg zktiabt tkmbgrt mnebltg ctwb dkbimhzktyb lxvtkt atkybta uxktkmb mnebltg ktatlbt',i))"
   ]
  },
  {
   "cell_type": "code",
   "execution_count": 10,
   "metadata": {},
   "outputs": [
    {
     "data": {
      "text/plain": [
       "'viuisc qnbip vcz niltqtip'"
      ]
     },
     "execution_count": 10,
     "metadata": {},
     "output_type": "execute_result"
    }
   ],
   "source": [
    "encrypt('namaku iftah nur fadlilah',8)"
   ]
  },
  {
   "cell_type": "code",
   "execution_count": null,
   "metadata": {},
   "outputs": [],
   "source": []
  }
 ],
 "metadata": {
  "kernelspec": {
   "display_name": "Python 3 (ipykernel)",
   "language": "python",
   "name": "python3"
  },
  "language_info": {
   "codemirror_mode": {
    "name": "ipython",
    "version": 3
   },
   "file_extension": ".py",
   "mimetype": "text/x-python",
   "name": "python",
   "nbconvert_exporter": "python",
   "pygments_lexer": "ipython3",
   "version": "3.7.3"
  }
 },
 "nbformat": 4,
 "nbformat_minor": 4
}
