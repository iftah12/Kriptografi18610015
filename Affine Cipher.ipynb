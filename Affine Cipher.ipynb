{
 "cells": [
  {
   "cell_type": "markdown",
   "metadata": {},
   "source": [
    "# Affine Cipher"
   ]
  },
  {
   "cell_type": "code",
   "execution_count": 1,
   "metadata": {},
   "outputs": [],
   "source": [
    "#Menambahkan Invers Modulo\n",
    "def encrypt(a,x,k):\n",
    "    c=''\n",
    "    t=len(x)\n",
    "    for i in range(0,t):\n",
    "        if x[i]==' ':\n",
    "            ct=' '\n",
    "        else :\n",
    "            p=ord(x[i])\n",
    "            y=((a*(p-97))+k)%26\n",
    "            ct=chr(y+97)\n",
    "        c=c+ct\n",
    "    return c\n",
    "def decrypt(ain,x,k):\n",
    "    p=''\n",
    "    t=len(x)\n",
    "    for i in range(0,t):\n",
    "        if x[i]==' ':\n",
    "            pt=' '\n",
    "        else :\n",
    "            c=ord(x[i])\n",
    "            y=(ain*(c-k-97))%26\n",
    "            pt=chr(y+97)\n",
    "        p=p+pt\n",
    "    return p"
   ]
  },
  {
   "cell_type": "code",
   "execution_count": 2,
   "metadata": {},
   "outputs": [
    {
     "data": {
      "text/plain": [
       "'czolne'"
      ]
     },
     "execution_count": 2,
     "metadata": {},
     "output_type": "execute_result"
    }
   ],
   "source": [
    "encrypt(7,'kripto',10)"
   ]
  },
  {
   "cell_type": "code",
   "execution_count": 3,
   "metadata": {},
   "outputs": [
    {
     "data": {
      "text/plain": [
       "'kripto'"
      ]
     },
     "execution_count": 3,
     "metadata": {},
     "output_type": "execute_result"
    }
   ],
   "source": [
    "decrypt(15,'czolne',10)"
   ]
  },
  {
   "cell_type": "markdown",
   "metadata": {},
   "source": [
    "# Affine Chipher2"
   ]
  },
  {
   "cell_type": "code",
   "execution_count": 4,
   "metadata": {},
   "outputs": [],
   "source": [
    "def egcd(a, b):\n",
    "    x,y, u,v = 0,1, 1,0\n",
    "    while a != 0:\n",
    "        q, r = b//a, b%a\n",
    "        m, n = x-u*q, y-v*q\n",
    "        b,a, x,y, u,v = a,r, u,v, m,n\n",
    "    gcd = b\n",
    "    return gcd, x, y\n",
    "\n",
    "def modinv(a, m):\n",
    "    gcd, x, y = egcd(a, m)\n",
    "    if gcd != 1:\n",
    "        return None # modular inverse does not exist\n",
    "    else:\n",
    "        return x % m\n",
    "\n",
    "def affine_encrypt(text, key):\n",
    "    '''\n",
    "    C = (a*P + b) % 26\n",
    "    '''\n",
    "    return ''.join([ chr((( key[0]*(ord(t) - ord('A')) + key[1] ) % 26)\n",
    "                + ord('A')) for t in text.upper().replace(' ', '') ])\n",
    "\n",
    "def affine_decrypt(cipher, key):\n",
    "    '''\n",
    "    P = (a^-1 * (C - b)) % 26\n",
    "    '''\n",
    "    return ''.join([ chr((( modinv(key[0], 26)*(ord(c) - ord('A') - key[1]))\n",
    "                % 26) + ord('A')) for c in cipher ])\n",
    "\n",
    "def main():\n",
    "    text = input('Masukkan Plaintext: ')\n",
    "    key = [int(input('Masukkan Key Pertama: ')) , int(input('Masukkan Key Kedua: ')) ]\n",
    "\n",
    "    affine_encrypted_text = affine_encrypt(text, key)\n",
    "\n",
    "    print('Encrypted Text: {}'.format( affine_encrypted_text ))\n",
    "\n",
    "    print('Decrypted Text: {}'.format\n",
    "    ( affine_decrypt(affine_encrypted_text, key) ))\n",
    "\n",
    "def encrypt():    \n",
    "    if __name__ == '__main__':\n",
    "        main()"
   ]
  },
  {
   "cell_type": "code",
   "execution_count": 5,
   "metadata": {},
   "outputs": [
    {
     "name": "stdout",
     "output_type": "stream",
     "text": [
      "Masukkan Plaintext: kripto\n",
      "Masukkan Key Pertama: 7\n",
      "Masukkan Key Kedua: 10\n",
      "Encrypted Text: CZOLNE\n",
      "Decrypted Text: KRIPTO\n"
     ]
    }
   ],
   "source": [
    "encrypt()"
   ]
  },
  {
   "cell_type": "code",
   "execution_count": null,
   "metadata": {},
   "outputs": [],
   "source": []
  }
 ],
 "metadata": {
  "kernelspec": {
   "display_name": "Python 3 (ipykernel)",
   "language": "python",
   "name": "python3"
  },
  "language_info": {
   "codemirror_mode": {
    "name": "ipython",
    "version": 3
   },
   "file_extension": ".py",
   "mimetype": "text/x-python",
   "name": "python",
   "nbconvert_exporter": "python",
   "pygments_lexer": "ipython3",
   "version": "3.7.3"
  }
 },
 "nbformat": 4,
 "nbformat_minor": 4
}
